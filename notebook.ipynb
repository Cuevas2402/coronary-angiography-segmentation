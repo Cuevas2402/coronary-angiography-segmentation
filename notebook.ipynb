{
 "cells": [
  {
   "cell_type": "code",
   "execution_count": null,
   "metadata": {},
   "outputs": [],
   "source": [
    "import torch\n",
    "import torch.nn as nn\n",
    "import torchvision.transforms.functional as TF\n",
    "import torchvision\n",
    "from torch.utils.data import DataLoader, Dataset\n",
    "from PIL import Image\n",
    "import numpy as np\n",
    "import pandas as pd\n",
    "import matplotlib.pyplot as plt\n",
    "%matplotlib inline\n",
    "\n",
    "import os\n",
    "import cv2\n",
    "import pytorch_lightning as pl\n",
    "\n"
   ]
  },
  {
   "cell_type": "markdown",
   "metadata": {},
   "source": [
    "# Config"
   ]
  },
  {
   "cell_type": "code",
   "execution_count": 1,
   "metadata": {},
   "outputs": [],
   "source": [
    "data_dir = './dataset'\n"
   ]
  },
  {
   "cell_type": "markdown",
   "metadata": {},
   "source": [
    "# Data Loader"
   ]
  },
  {
   "cell_type": "code",
   "execution_count": 2,
   "metadata": {},
   "outputs": [],
   "source": [
    "class CADataset(Dataset):\n",
    "\tdef __init__(self, image_dir, label_dir, augmentation=None, preprocessing=None):\n",
    "\t\tsuper().__init__()\n",
    "\t\tself.image_dir = image_dir\n",
    "\t\tself.label_dir = label_dir\n",
    "\t\tself.images = os.listdir(image_dir)\n",
    "\t\tself.labels = os.listdir(label_dir)\n",
    "\t\tself.augmentation = augmentation\n",
    "\t\tself.preprocessing = preprocessing\n",
    "\n",
    "\t\n",
    "\tdef __len__(self):\n",
    "\t\treturn len(self.images)\n",
    "\n",
    "\tdef __getitem__(self, index):\n",
    "\t\timage = os.path.join(self.image_dir, self.images[index])\n",
    "\t\tlabel = os.path.join(self.label_dir, self.labels[0])\n",
    "\t\timage = cv2.cvtColor(image, cv2.COLOR_BGR2RGBA)\n",
    "\t\tlabel = cv2.imread(label, 0)\n",
    "\n",
    "\t\tif self.augmentation:\n",
    "\t\t\tsample = self.augmentation(image=image, mask=label)\n",
    "\t\t\timage, label = sample['image'], sample['mask']\n",
    "\t\t\n",
    "\t\treturn image.transpose(2,0,1), label.transpose(2,0,1)"
   ]
  },
  {
   "cell_type": "markdown",
   "metadata": {},
   "source": [
    "# Data Module"
   ]
  },
  {
   "cell_type": "code",
   "execution_count": null,
   "metadata": {},
   "outputs": [],
   "source": [
    "class CADataModule(pl.LightningDataModule):\n",
    "\tdef __init__(self, image_dir, label_dir, batch_size, num_workers):\n",
    "\t\tsuper().__init__()\n",
    "\t\n",
    "\tdef setup(self, stage):\n",
    "\t\tpass\n",
    "\n",
    "\tdef train_dataloader(self):\n",
    "\t\tpass\n",
    "\n",
    "\tdef test_dataloader(self):\n",
    "\t\tpass\n",
    "\n",
    "\tdef validation_dataloader(self):\n",
    "\t\tpass\n"
   ]
  }
 ],
 "metadata": {
  "kernelspec": {
   "display_name": "Python 3",
   "language": "python",
   "name": "python3"
  },
  "language_info": {
   "codemirror_mode": {
    "name": "ipython",
    "version": 3
   },
   "file_extension": ".py",
   "mimetype": "text/x-python",
   "name": "python",
   "nbconvert_exporter": "python",
   "pygments_lexer": "ipython3",
   "version": "3.13.0"
  }
 },
 "nbformat": 4,
 "nbformat_minor": 2
}
